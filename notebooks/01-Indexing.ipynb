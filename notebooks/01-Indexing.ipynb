{
 "cells": [
  {
   "cell_type": "markdown",
   "metadata": {},
   "source": [
    "# Data Structures and Indexing"
   ]
  },
  {
   "cell_type": "markdown",
   "metadata": {},
   "source": [
    "We'll get our first look at pandas' data structures.\n",
    "Then we'll focus on indexing -- selecting subsets of data."
   ]
  },
  {
   "cell_type": "code",
   "execution_count": null,
   "metadata": {},
   "outputs": [],
   "source": [
    "import numpy as np\n",
    "import pandas as pd\n",
    "import seaborn as sns\n",
    "import matplotlib.pyplot as plt"
   ]
  },
  {
   "cell_type": "code",
   "execution_count": null,
   "metadata": {},
   "outputs": [],
   "source": [
    "%matplotlib inline"
   ]
  },
  {
   "cell_type": "code",
   "execution_count": null,
   "metadata": {},
   "outputs": [],
   "source": [
    "pd.options.display.max_rows = 10\n",
    "pd.options.display.float_format = '{:,.2f}'.format\n",
    "plt.rcParams['figure.figsize'] = (16, 12)"
   ]
  },
  {
   "cell_type": "markdown",
   "metadata": {},
   "source": [
    "## Reading Data\n",
    "\n",
    "Pandas has support for reading from many data sources, including\n",
    "\n",
    "- `pd.read_csv`\n",
    "- `pd.read_excel`\n",
    "- `pd.read_html`\n",
    "- `pd.read_json`\n",
    "- `pd.read_hdf`\n",
    "- `pd.read_sql`"
   ]
  },
  {
   "cell_type": "markdown",
   "metadata": {},
   "source": [
    "For this section we'll work with some flights data from the US Bureau of Transportation and Statistics.\n",
    "The CSV includes all the flights from New York airports in January 2014.\n",
    "Each record has information about a single flight including the carrier, tail number, origin, destination, and delays."
   ]
  },
  {
   "cell_type": "code",
   "execution_count": null,
   "metadata": {},
   "outputs": [],
   "source": [
    "flights = pd.read_csv(\"data/ny-flights.csv.gz\",\n",
    "                      parse_dates=[\"fl_date\", \"arr\", \"dep\"])\n",
    "flights"
   ]
  },
  {
   "cell_type": "markdown",
   "metadata": {},
   "source": [
    "## Data Structures\n",
    "\n",
    "![A dataframe is made up of data, row labels, and column labels](figures/dataframe.png)"
   ]
  },
  {
   "cell_type": "markdown",
   "metadata": {},
   "source": [
    "`read_csv` returned a `DataFrame`, which is somewhat similar to a spreadsheet or database table.\n",
    "`pd.DataFrame` is the data container you'll work most with, and consists of a few components:"
   ]
  },
  {
   "cell_type": "markdown",
   "metadata": {},
   "source": [
    "The data are in the middle of the table.\n",
    "Each column of the data is a `pd.Series`, kind of like a 1-dimensional version of a DataFrame."
   ]
  },
  {
   "cell_type": "code",
   "execution_count": null,
   "metadata": {},
   "outputs": [],
   "source": [
    "flights['dep_delay']"
   ]
  },
  {
   "cell_type": "markdown",
   "metadata": {},
   "source": [
    "Both `pd.DataFrame`s and `pd.Series` have *row labels*, which can be accessed with the `.index` attribute:"
   ]
  },
  {
   "cell_type": "code",
   "execution_count": null,
   "metadata": {},
   "outputs": [],
   "source": [
    "flights.index"
   ]
  },
  {
   "cell_type": "markdown",
   "metadata": {},
   "source": [
    "`flights.index` is a `pd.Index` (there are many specialized index types, like `pd.RangeIndex`, but we'll talk about those later).\n",
    "\n",
    "DataFrames store their column labels in a `.columns` attribute, which is also a `pd.Index`:"
   ]
  },
  {
   "cell_type": "code",
   "execution_count": null,
   "metadata": {},
   "outputs": [],
   "source": [
    "flights.columns"
   ]
  },
  {
   "cell_type": "markdown",
   "metadata": {},
   "source": [
    "The row and column labels help out with indexing and alignemnt, our firs two topics."
   ]
  },
  {
   "cell_type": "markdown",
   "metadata": {},
   "source": [
    "## Pandas and NumPy\n",
    "\n",
    "Pandas builds on top of NumPy. A DataFrame is a *container* for arrays.\n",
    "\n",
    "The major differences are that\n",
    "\n",
    "1. **Pandas DataFrames are 2-dimensional**:\n",
    "\n",
    "   Pandas is designed for *tabular* data, like you might find in a\n",
    "   database table, spreadsheet, or CVS. This differs from NumPy, which\n",
    "   supports N-dimensional arrays.\n",
    "\n",
    "\n",
    "2. **Pandas DataFrames are heterogenous**:\n",
    "\n",
    "   You can store many types of data in the same DataFrame. Each *column*\n",
    "   of the dataframe has its own type. This differs NumPy, which has\n",
    "   *homogeneous* arrays: a single datatype for every element of the\n",
    "   N-dimensional array."
   ]
  },
  {
   "cell_type": "code",
   "execution_count": null,
   "metadata": {},
   "outputs": [],
   "source": [
    "flights.info()"
   ]
  },
  {
   "cell_type": "markdown",
   "metadata": {},
   "source": [
    "## Preview\n",
    "\n",
    "A taste of where we'll be by the end of the course"
   ]
  },
  {
   "cell_type": "markdown",
   "metadata": {},
   "source": [
    "To get a bit of intuition about the data we're working with, let's do a brief bit of exploratory analysis.\n",
    "We'll see all this in more detail later, but I wanted to demonstrate some of the capabilities of pandas upfront."
   ]
  },
  {
   "cell_type": "code",
   "execution_count": null,
   "metadata": {},
   "outputs": [],
   "source": [
    "(flights['dep']\n",
    "    .value_counts()\n",
    "    .resample('H')\n",
    "    .sum()\n",
    "    .rolling(8).mean()\n",
    "    .plot(figsize=(12, 6),\n",
    "          title=\"Number of Flights (8H Rolling Mean)\"))\n",
    "sns.despine()"
   ]
  },
  {
   "cell_type": "markdown",
   "metadata": {},
   "source": [
    "We can plot the count of flights per carrier:"
   ]
  },
  {
   "cell_type": "code",
   "execution_count": null,
   "metadata": {},
   "outputs": [],
   "source": [
    "sns.countplot(\n",
    "    flights['unique_carrier'],\n",
    "    order=flights['unique_carrier'].value_counts().index,\n",
    "    palette='Blues_r'\n",
    ")\n",
    "sns.despine()"
   ]
  },
  {
   "cell_type": "markdown",
   "metadata": {},
   "source": [
    "And the joint distribution of departure and arrival delays:"
   ]
  },
  {
   "cell_type": "code",
   "execution_count": null,
   "metadata": {},
   "outputs": [],
   "source": [
    "sns.jointplot('dep_delay', 'arr_delay',\n",
    "              flights.loc[(flights['dep_delay'] > 1) &\n",
    "                          (flights['dep_delay'] < 500)],\n",
    "              alpha=.25, marker='.', size=8);"
   ]
  },
  {
   "cell_type": "markdown",
   "metadata": {},
   "source": [
    "We'll explore some of those methods and visualization techniques later.\n",
    "For now we'll turn to the more fundamental operation of indexing.\n",
    "\n",
    "By indexing, we mean selecting subsets of your data.\n",
    "It's a good starting point, because it comes up in so many other places;\n",
    "It's a terrible starting point because it's somewhat complicated, and somewhat boring."
   ]
  },
  {
   "cell_type": "markdown",
   "metadata": {},
   "source": [
    "## Goals of Indexing\n",
    "\n",
    "There are many ways you might want to specify which subset you want to select:\n",
    "\n",
    "- Like lists, you can index by integer position.\n",
    "- Like dictionaries, you can index by label.\n",
    "- Like NumPy arrays, you can index by boolean masks.\n",
    "- You can index with a scalar, `slice`, or array\n",
    "- Any of these should work on the index (row labels), or columns of a DataFrame, or both\n",
    "- And any of these should work on hierarchical indexes."
   ]
  },
  {
   "cell_type": "markdown",
   "metadata": {},
   "source": [
    "## The Basic Rules\n",
    "\n",
    "1. Use `__getitem__` (square brackets) to select columns of a `DataFrame`\n",
    "\n",
    "    ```python\n",
    "    >>> df[['a', 'b', 'c']]\n",
    "    ```\n",
    "\n",
    "2. Use `.loc` for label-based indexing (rows and columns)\n",
    "\n",
    "    ```python\n",
    "    >>> df.loc[row_labels, column_labels]\n",
    "    ```\n",
    "\n",
    "3. Use `.iloc` for position-based indexing (rows and columns)\n",
    "\n",
    "    ```python\n",
    "    >>> df.iloc[row_positions, column_positions]\n",
    "    ```"
   ]
  },
  {
   "cell_type": "markdown",
   "metadata": {},
   "source": [
    "---\n",
    "\n",
    "The arguments to `.loc` and `.iloc` are `.loc[row_indexer, column_indexer]`. An indexer can be one of\n",
    "\n",
    "- A scalar or array (of labels or integer positions)\n",
    "- A `slice` object (including `:` for everything)\n",
    "- A boolean mask\n",
    "\n",
    "The column indexer is optional.\n",
    "We'll walk through all the combinations below."
   ]
  },
  {
   "cell_type": "markdown",
   "metadata": {},
   "source": [
    "Let's get a DataFrame with a labeled index by selecting the\n",
    "first flight for each carrier. We'll talk about `groupby` later."
   ]
  },
  {
   "cell_type": "code",
   "execution_count": null,
   "metadata": {},
   "outputs": [],
   "source": [
    "first = flights.groupby(\"unique_carrier\").first()\n",
    "first"
   ]
  },
  {
   "cell_type": "markdown",
   "metadata": {},
   "source": [
    "## 1. Selecting Columns with `__getitem__`\n",
    "\n",
    "Let's select the two delay columns. Since we're *only* filtering the columns (not rows), we can use dictionary-like `[]` to do the slicing."
   ]
  },
  {
   "cell_type": "code",
   "execution_count": null,
   "metadata": {},
   "outputs": [],
   "source": [
    "first[['dep_delay', 'arr_delay']]"
   ]
  },
  {
   "cell_type": "markdown",
   "metadata": {},
   "source": [
    "One potential source of confusion: python uses `[]` for two purposes\n",
    "\n",
    "1. building a list\n",
    "2. slicing with `__getitem__`"
   ]
  },
  {
   "cell_type": "code",
   "execution_count": null,
   "metadata": {},
   "outputs": [],
   "source": [
    "# 1. build the list cols\n",
    "cols = ['dep_delay', 'arr_delay']\n",
    "# 2. slice, with cols as the argument to `__getitem__`\n",
    "first[cols]"
   ]
  },
  {
   "cell_type": "markdown",
   "metadata": {},
   "source": [
    "<div class=\"alert alert-success\" data-title=\"Select Columns by Name\">\n",
    "  <h1><i class=\"fa fa-tasks\" aria-hidden=\"true\"></i> Exercise: Select Columns by Name</h1>\n",
    "</div>\n",
    "<p>Select the two airport-name columns, `'origin'` and `'dest'`, from `first`</p>"
   ]
  },
  {
   "cell_type": "code",
   "execution_count": null,
   "metadata": {
    "tags": [
     "solution"
    ]
   },
   "outputs": [],
   "source": [
    "# Your code here...\n"
   ]
  },
  {
   "cell_type": "code",
   "execution_count": null,
   "metadata": {
    "tags": [
     "solution"
    ]
   },
   "outputs": [],
   "source": [
    "%load solutions/indexing_00.py"
   ]
  },
  {
   "cell_type": "markdown",
   "metadata": {},
   "source": [
    "## Column `.` lookup\n",
    "\n",
    "As a convenience, pandas attaches the column names to your `DataFrame` when they're valid [python identifiers](https://docs.python.org/3/reference/lexical_analysis.html), and don't override one of the ([many](http://pandas.pydata.org/pandas-docs/stable/api.html#dataframe)) methods on `DataFrame`"
   ]
  },
  {
   "cell_type": "code",
   "execution_count": null,
   "metadata": {},
   "outputs": [],
   "source": [
    "# Same as flights['tail_num'].value_counts()\n",
    "flights.tail_num.value_counts()"
   ]
  },
  {
   "cell_type": "markdown",
   "metadata": {},
   "source": [
    "This is nice when working interactively, especially as tab completion works with `flights.tail_num.<TAB>`, but doesn't with `flights['tail_num'].<TAB>`.\n",
    "Still, since pandas could add methods in the future that clash with your column names, it's recommended to stick with `__getitem__` for production code.\n",
    "This will always work, even when you shadow a DataFrame method"
   ]
  },
  {
   "cell_type": "code",
   "execution_count": null,
   "metadata": {},
   "outputs": [],
   "source": [
    "x = pd.DataFrame({\"mean\": [1, 2, 3]})\n",
    "x"
   ]
  },
  {
   "cell_type": "code",
   "execution_count": null,
   "metadata": {},
   "outputs": [],
   "source": [
    "# returns the method, not the column\n",
    "x.mean"
   ]
  },
  {
   "cell_type": "markdown",
   "metadata": {},
   "source": [
    "Finally, you can't *assign* with `.`, while you can with `__setitem__` (square brackets on the left-hand side of an `=`):"
   ]
  },
  {
   "cell_type": "code",
   "execution_count": null,
   "metadata": {},
   "outputs": [],
   "source": [
    "x.wrong = ['a', 'b', 'c']\n",
    "x['right'] = ['a', 'b', 'c']\n",
    "x"
   ]
  },
  {
   "cell_type": "code",
   "execution_count": null,
   "metadata": {},
   "outputs": [],
   "source": [
    "x.wrong"
   ]
  },
  {
   "cell_type": "markdown",
   "metadata": {},
   "source": [
    "`DataFrame`s, like most python objects, allow you to attach arbitrary attributes to any instance.\n",
    "This means `x.wrong = ...` attaches the thing on the right-hand side to the object on the left."
   ]
  },
  {
   "cell_type": "markdown",
   "metadata": {},
   "source": [
    "## Label-Based Indexing with `.loc`\n",
    "\n",
    "You can slice rows by label (and optionally the columns too) with `.loc`.\n",
    "Let's select the rows for the carriers 'AA', 'DL', 'US', and 'WN'."
   ]
  },
  {
   "cell_type": "code",
   "execution_count": null,
   "metadata": {},
   "outputs": [],
   "source": [
    "carriers = ['AA', 'DL', 'US', 'WN']\n",
    "# Select those carriers by label\n",
    "first.loc[carriers]  # no column indexer"
   ]
  },
  {
   "cell_type": "markdown",
   "metadata": {},
   "source": [
    "Indexing both rows and columns:"
   ]
  },
  {
   "cell_type": "code",
   "execution_count": null,
   "metadata": {},
   "outputs": [],
   "source": [
    "# select just `carriers` and origin, dest, and dep_delay\n",
    "first.loc[carriers, ['origin', 'dest', 'dep_delay']]"
   ]
  },
  {
   "cell_type": "markdown",
   "metadata": {},
   "source": [
    "Pandas will *reduce dimensionality* when possible, so slicing with a scalar on either axis will return a `Series`."
   ]
  },
  {
   "cell_type": "code",
   "execution_count": null,
   "metadata": {},
   "outputs": [],
   "source": [
    "# select just tail_num for those `carriers`\n",
    "first.loc[carriers, 'tail_num']"
   ]
  },
  {
   "cell_type": "markdown",
   "metadata": {},
   "source": [
    "And scalars on both axes will return a scalar."
   ]
  },
  {
   "cell_type": "code",
   "execution_count": null,
   "metadata": {},
   "outputs": [],
   "source": [
    "first.loc['AA', 'tail_num']"
   ]
  },
  {
   "cell_type": "markdown",
   "metadata": {},
   "source": [
    "## `slice` objects\n",
    "\n",
    "You can pass a `slice` object (made with a `:`). They make sense when your index is sorted, which ours is."
   ]
  },
  {
   "cell_type": "code",
   "execution_count": null,
   "metadata": {},
   "outputs": [],
   "source": [
    "# slice from AA to DL\n",
    "first.loc['AA':'DL']"
   ]
  },
  {
   "cell_type": "markdown",
   "metadata": {},
   "source": [
    "Notice that the slice is inclusive on *both* sides *when using* `.loc` (`.iloc` follows the usual python semantics of closed on the left, open on the right)."
   ]
  },
  {
   "cell_type": "markdown",
   "metadata": {},
   "source": [
    "<div class=\"alert alert-success\" data-title=\"Index Rows and Columns\">\n",
    "  <h1><i class=\"fa fa-tasks\" aria-hidden=\"true\"></i> Exercise: Index Rows and Columns</h1>\n",
    "</div>\n",
    "<p>\n",
    "Select the columns `tail_num`, `origin`, and `dest` for the carriers `US`, `VX`, and `WN` from `first`.</p>"
   ]
  },
  {
   "cell_type": "code",
   "execution_count": null,
   "metadata": {
    "tags": [
     "solution"
    ]
   },
   "outputs": [],
   "source": [
    "# Your code here...\n"
   ]
  },
  {
   "cell_type": "code",
   "execution_count": null,
   "metadata": {
    "tags": [
     "solution"
    ]
   },
   "outputs": [],
   "source": [
    "%load solutions/indexing_loc.py"
   ]
  },
  {
   "cell_type": "markdown",
   "metadata": {},
   "source": [
    "## Boolean Indexing\n",
    "\n",
    "Filter using a *1-dimensional* boolean array with the same length."
   ]
  },
  {
   "cell_type": "markdown",
   "metadata": {},
   "source": [
    "This is esstentially a SQL `WHERE` clause.\n",
    "You filter the rows according to some condition.\n",
    "For example, let's select flights that departed from the top-5 most common airports."
   ]
  },
  {
   "cell_type": "code",
   "execution_count": null,
   "metadata": {},
   "outputs": [],
   "source": [
    "# Get the counts for `flights.origin`\n",
    "origin_counts = flights.origin.value_counts()\n",
    "origin_counts"
   ]
  },
  {
   "cell_type": "markdown",
   "metadata": {},
   "source": [
    "[`Series.value_counts`](http://pandas.pydata.org/pandas-docs/stable/generated/pandas.Series.value_counts.html) will return a Series where the index is the set of unique values, and the values are the number of occurrances of that value.\n",
    "It's sorted in descending order, so we can get the 5 most common labels with:"
   ]
  },
  {
   "cell_type": "code",
   "execution_count": null,
   "metadata": {},
   "outputs": [],
   "source": [
    "# Get a boolean mask for whether `counts` is in the top 5.\n",
    "top5 = origin_counts.index[:5]\n",
    "top5"
   ]
  },
  {
   "cell_type": "markdown",
   "metadata": {},
   "source": [
    "We'll test whether any given row from `flights` is in the top 5 using the `.isin` method:"
   ]
  },
  {
   "cell_type": "code",
   "execution_count": null,
   "metadata": {},
   "outputs": [],
   "source": [
    "mask = flights.origin.isin(top5)\n",
    "mask"
   ]
  },
  {
   "cell_type": "markdown",
   "metadata": {},
   "source": [
    "This is a *boolean mask*, which can be passed into `.loc`."
   ]
  },
  {
   "cell_type": "code",
   "execution_count": null,
   "metadata": {},
   "outputs": [],
   "source": [
    "flights.loc[mask, ['origin', 'dest']]"
   ]
  },
  {
   "cell_type": "markdown",
   "metadata": {},
   "source": [
    "You can pass boolean masks to regular `[]`, `.loc`, or `.iloc`.\n",
    "\n",
    "Boolean indexers are useful because so many operations can produce an array of booleans.\n",
    "\n",
    "- null checks (`.isnull`, `.notnull`)\n",
    "- container checks (`.isin`)\n",
    "- boolean aggregations (`.any`, `.all`)\n",
    "- comparisions (`.gt`, `.lt`, etc.)"
   ]
  },
  {
   "cell_type": "code",
   "execution_count": null,
   "metadata": {},
   "outputs": [],
   "source": [
    "# Select rows where `dep` is null\n",
    "\n",
    "flights.loc[flights.dep.isnull()]"
   ]
  },
  {
   "cell_type": "markdown",
   "metadata": {},
   "source": [
    "<div class=\"alert alert-success\" data-title=\"Boolean Indexing\">\n",
    "  <h1><i class=\"fa fa-tasks\" aria-hidden=\"true\"></i> Exercise: Boolean Indexing</h1>\n",
    "</div>\n",
    "\n",
    "<p>Select the rows of `flights` where the flight was cancelled (`cancelled == 1`)</p>"
   ]
  },
  {
   "cell_type": "code",
   "execution_count": null,
   "metadata": {
    "tags": [
     "solution"
    ]
   },
   "outputs": [],
   "source": [
    "# Your code here"
   ]
  },
  {
   "cell_type": "code",
   "execution_count": null,
   "metadata": {
    "tags": [
     "solution"
    ]
   },
   "outputs": [],
   "source": [
    "%load solutions/indexing_cancelled.py"
   ]
  },
  {
   "cell_type": "markdown",
   "metadata": {},
   "source": [
    "<div class=\"alert alert-success\" data-title=\"Boolean Indexing (2)\">\n",
    "  <h1><i class=\"fa fa-tasks\" aria-hidden=\"true\"></i> Exercise: Boolean Indexing (2)</h1>\n",
    "</div>\n",
    "\n",
    "<p>Filter down to rows where the departure **`hour`** is before 6:00 or after 18:00.</p>\n",
    "\n",
    "- Hint: Use the `flights.dep.dt` namespace. See the attributes [here](http://pandas.pydata.org/pandas-docs/stable/generated/pandas.DatetimeIndex.html) or use tab-completion on `flights.dep.dt.<tab>` to find an attribute giving the hour component\n",
    "- Hint: NumPy and pandas use `|` for elementwise `or`, and `&` for elementwise `and` between two boolean arrays\n",
    "- Hint: Be careful with [Python's order of operations](https://docs.python.org/3/reference/expressions.html#operator-precedence) between comparison operators (`<`, `>`) and NumPy's logical operators `|` and `&`. If your first attempt raises a `TypeError`, try including some parenthesis."
   ]
  },
  {
   "cell_type": "code",
   "execution_count": null,
   "metadata": {
    "tags": [
     "solution"
    ]
   },
   "outputs": [],
   "source": [
    "# Your code here...\n"
   ]
  },
  {
   "cell_type": "code",
   "execution_count": null,
   "metadata": {
    "tags": [
     "solution"
    ]
   },
   "outputs": [],
   "source": [
    "%load solutions/indexing_01.py"
   ]
  },
  {
   "cell_type": "markdown",
   "metadata": {},
   "source": [
    "## Position-Based Indexing with `.iloc`\n",
    "\n",
    "This takes the same basic forms as `.loc`, except you use integers to designate *positions* instead of labels."
   ]
  },
  {
   "cell_type": "code",
   "execution_count": null,
   "metadata": {},
   "outputs": [],
   "source": [
    "first.iloc[[0, 1, 2], [1, 2]]"
   ]
  },
  {
   "cell_type": "markdown",
   "metadata": {},
   "source": [
    "You can use scalars, arrays, boolean masks, or slices.\n",
    "You can also use negative indices to slice from the end like regular python lists or numpy arrays.\n",
    "\n",
    "The one notable difference compared to label-based indexing is with `slice` objects.\n",
    "Recall that `.loc` included both ends of the slice.\n",
    "`.iloc` uses the usual python behavior of slicing up to, but not including, the end point:"
   ]
  },
  {
   "cell_type": "code",
   "execution_count": null,
   "metadata": {},
   "outputs": [],
   "source": [
    "# select the first two rows, and the 3rd, 4th, and 5th columns\n",
    "first.iloc[:2, 3:6]"
   ]
  },
  {
   "cell_type": "markdown",
   "metadata": {},
   "source": [
    "## Dropping rows or columns\n",
    "\n",
    "What if you want all items *except* for some?\n",
    "\n",
    "```\n",
    "DataFrame.drop(labels, axis=0, ...)\n",
    "\n",
    "Parameters\n",
    "----------\n",
    "labels : single label or list-like\n",
    "axis : int or axis name\n",
    "    - 0 / 'index', look in the index.\n",
    "    - 1 / 'columns', look in the columns\n",
    "```"
   ]
  },
  {
   "cell_type": "markdown",
   "metadata": {},
   "source": [
    "<div class=\"alert alert-success\" data-title=\"Dropping Row Labels\">\n",
    "  <h1><i class=\"fa fa-tasks\" aria-hidden=\"true\"></i> Exercise: Dropping Row Labels</h1>\n",
    "</div>\n",
    "<p>Use `first.drop` to select all the rows *except* `EV` and `F9`.</p>"
   ]
  },
  {
   "cell_type": "code",
   "execution_count": null,
   "metadata": {
    "tags": [
     "solution"
    ]
   },
   "outputs": [],
   "source": [
    "# Your code here"
   ]
  },
  {
   "cell_type": "code",
   "execution_count": null,
   "metadata": {
    "tags": [
     "solution"
    ]
   },
   "outputs": [],
   "source": [
    "%load solutions/indexing_drop_index.py"
   ]
  },
  {
   "cell_type": "markdown",
   "metadata": {},
   "source": [
    "<div class=\"alert alert-success\" data-title=\"Drop a column\">\n",
    "  <h1><i class=\"fa fa-tasks\" aria-hidden=\"true\"></i> Exercise: Drop a column</h1>\n",
    "</div>\n",
    "<p>`flights.airline_id` is redundant with `unique_carrier`. Drop `airline_id`.</p>"
   ]
  },
  {
   "cell_type": "code",
   "execution_count": null,
   "metadata": {
    "tags": [
     "solution"
    ]
   },
   "outputs": [],
   "source": [
    "# your code here\n"
   ]
  },
  {
   "cell_type": "code",
   "execution_count": null,
   "metadata": {
    "tags": [
     "solution"
    ]
   },
   "outputs": [],
   "source": [
    "%load solutions/indexing_drop_columns.py"
   ]
  },
  {
   "cell_type": "markdown",
   "metadata": {},
   "source": [
    "This is our first time seeing the `axis` keyword argument.\n",
    "It comes up a lot in pandas and NumPy. `axis='index'` (or 0) means\n",
    "operate on the index (e.g. drop labels from the index).\n",
    "`axis='columns'` (or 1) means operate on the columns."
   ]
  },
  {
   "cell_type": "markdown",
   "metadata": {},
   "source": [
    "## Special Case: `DateTimeIndex`\n",
    "\n",
    "> Easier slicing with strings"
   ]
  },
  {
   "cell_type": "markdown",
   "metadata": {},
   "source": [
    "Pandas has really good support for time series data, including a few conveniences to make indexing easier.\n",
    "First let's get a DataFrame with a `DatetimeIndex`, another specialied index type like we saw with `RangeIndex`."
   ]
  },
  {
   "cell_type": "code",
   "execution_count": null,
   "metadata": {},
   "outputs": [],
   "source": [
    "# We'll talk about resample later\n",
    "# This gets the average delays per hour\n",
    "delays = flights.resample(\"H\", on=\"arr\")[['dep_delay', 'arr_delay']].mean()\n",
    "delays.head()"
   ]
  },
  {
   "cell_type": "markdown",
   "metadata": {},
   "source": [
    "`delays` has a `DatetimeIndex`:"
   ]
  },
  {
   "cell_type": "code",
   "execution_count": null,
   "metadata": {},
   "outputs": [],
   "source": [
    "delays.index"
   ]
  },
  {
   "cell_type": "code",
   "execution_count": null,
   "metadata": {},
   "outputs": [],
   "source": [
    "delays.plot();"
   ]
  },
  {
   "cell_type": "markdown",
   "metadata": {},
   "source": [
    "Since `delays.index` is a `DatetimeIndex`, we can use [partial string indexing](http://pandas.pydata.org/pandas-docs/stable/timeseries.html#datetimeindex-partial-string-indexing) to easily select subsets of the data.\n",
    "The basic idea is to specify the datetime up to whatever resolution you care about.\n",
    "For example, to select all the flights on the 12th (a daily resolution):"
   ]
  },
  {
   "cell_type": "code",
   "execution_count": null,
   "metadata": {},
   "outputs": [],
   "source": [
    "delays.loc['2014-01-12']"
   ]
  },
  {
   "cell_type": "markdown",
   "metadata": {},
   "source": [
    "Without partial string indexing, you'd need to do something like"
   ]
  },
  {
   "cell_type": "code",
   "execution_count": null,
   "metadata": {},
   "outputs": [],
   "source": [
    "delays[(delays.index.year == 2014) & (delays.index.month == 1) & (delays.index.day == 12)]"
   ]
  },
  {
   "cell_type": "markdown",
   "metadata": {},
   "source": [
    "Which isn't very fun."
   ]
  },
  {
   "cell_type": "markdown",
   "metadata": {},
   "source": [
    "<div class=\"alert alert-success\" data-title=\"Datetime Indexing\">\n",
    "  <h1><i class=\"fa fa-tasks\" aria-hidden=\"true\"></i> Exercise: Datetime Indexing</h1>\n",
    "</div>\n",
    "<p>\n",
    "Slice `delays` to select all rows from 12:00 on January 3rd, to 12:00 on the 10th.</p>"
   ]
  },
  {
   "cell_type": "code",
   "execution_count": null,
   "metadata": {
    "tags": [
     "solution"
    ]
   },
   "outputs": [],
   "source": [
    "# Your code"
   ]
  },
  {
   "cell_type": "code",
   "execution_count": null,
   "metadata": {
    "tags": [
     "solution"
    ]
   },
   "outputs": [],
   "source": [
    "%load solutions/indexing_datetime.py"
   ]
  },
  {
   "cell_type": "markdown",
   "metadata": {},
   "source": [
    "<div class=\"alert alert-success\" data-title=\"Thought Exercise\">\n",
    "  <h1><i class=\"fa fa-lightbulb-o\" aria-hidden=\"true\"></i> Thought Exercise</h1>\n",
    "</div>\n",
    "<p>\n",
    "Why does pandas use a property like `.loc[..., ...]`, rather than a method like `.loc(..., ...)`?</p>\n",
    "\n",
    "- Hint: Where in the language can you use `foo.loc[...]`, but not `foo.loc(...)`?"
   ]
  },
  {
   "cell_type": "code",
   "execution_count": null,
   "metadata": {
    "tags": [
     "solution"
    ]
   },
   "outputs": [],
   "source": [
    "%load solutions/indexing_thoughts.py"
   ]
  },
  {
   "cell_type": "markdown",
   "metadata": {},
   "source": [
    "## Summary\n",
    "\n",
    "- Introduced to `DataFrame` (2-D tabel) and `Series` (1-D array)\n",
    "- Both have *row labels*, `DataFrame` also has `column labels`\n",
    "- Saw `.loc` for labeled indexing and `.iloc` for positional indexing\n",
    "- `.loc`, `.iloc`, and `__getitem__` all accept boolean masks too"
   ]
  },
  {
   "cell_type": "markdown",
   "metadata": {},
   "source": [
    "## Additional Exercises\n",
    "\n",
    "Some additional exercises focused on indexing:"
   ]
  },
  {
   "cell_type": "code",
   "execution_count": null,
   "metadata": {},
   "outputs": [],
   "source": [
    "from IPython.display import IFrame\n",
    "\n",
    "IFrame(\"http://vincentarelbundock.github.io/Rdatasets/doc/ISLR/Auto.html\", 750, 900)"
   ]
  },
  {
   "cell_type": "code",
   "execution_count": null,
   "metadata": {},
   "outputs": [],
   "source": [
    "url = \"http://vincentarelbundock.github.io/Rdatasets/csv/ISLR/Auto.csv\"\n",
    "cars = pd.read_csv(url, index_col=0)"
   ]
  },
  {
   "cell_type": "code",
   "execution_count": null,
   "metadata": {},
   "outputs": [],
   "source": [
    "cars.head()"
   ]
  },
  {
   "cell_type": "code",
   "execution_count": null,
   "metadata": {},
   "outputs": [],
   "source": [
    "yearly = cars.groupby(\"year\").mean()\n",
    "yearly.head()"
   ]
  },
  {
   "cell_type": "markdown",
   "metadata": {},
   "source": [
    " <div class=\"alert alert-success\" data-title=\"\">\n",
    "  <h1><i class=\"fa fa-tasks\" aria-hidden=\"true\"></i> Exercise</h1>\n",
    "</div>\n",
    "<p>\n",
    "Select the engine-related columns (cylinders, displacement, horsepower) from `cars`.\n",
    "</p>"
   ]
  },
  {
   "cell_type": "code",
   "execution_count": null,
   "metadata": {},
   "outputs": [],
   "source": []
  },
  {
   "cell_type": "code",
   "execution_count": null,
   "metadata": {},
   "outputs": [],
   "source": [
    "%load solutions/indexing_ex1_engine_columns.py"
   ]
  },
  {
   "cell_type": "markdown",
   "metadata": {},
   "source": [
    " <div class=\"alert alert-success\" data-title=\"\">\n",
    "  <h1><i class=\"fa fa-tasks\" aria-hidden=\"true\"></i> Exercise</h1>\n",
    "</div>\n",
    "<p>\n",
    "Select every 5th row of `cars`.\n",
    "</p>\n",
    "\n",
    "Hint: See [here](http://stackoverflow.com/a/509295) for all the options on slicing."
   ]
  },
  {
   "cell_type": "code",
   "execution_count": null,
   "metadata": {},
   "outputs": [],
   "source": []
  },
  {
   "cell_type": "code",
   "execution_count": null,
   "metadata": {},
   "outputs": [],
   "source": [
    "%load solutions/indexing_ex2_5th.py"
   ]
  },
  {
   "cell_type": "markdown",
   "metadata": {},
   "source": [
    " <div class=\"alert alert-success\" data-title=\"\">\n",
    "  <h1><i class=\"fa fa-tasks\" aria-hidden=\"true\"></i> Exercise</h1>\n",
    "</div>\n",
    "\n",
    "<p>Select years `70`, `75`, `80`, and `82` and columns `horsepower` and `weight` from `yearly`.</p>"
   ]
  },
  {
   "cell_type": "code",
   "execution_count": null,
   "metadata": {},
   "outputs": [],
   "source": []
  },
  {
   "cell_type": "code",
   "execution_count": null,
   "metadata": {},
   "outputs": [],
   "source": [
    "%load solutions/indexing_ex3_years.py"
   ]
  },
  {
   "cell_type": "markdown",
   "metadata": {},
   "source": [
    " <div class=\"alert alert-success\" data-title=\"\">\n",
    "  <h1><i class=\"fa fa-tasks\" aria-hidden=\"true\"></i> Exercise</h1>\n",
    "</div>\n",
    "\n",
    "<p>Select rows in `cars` with at least 30 MPG.</p>"
   ]
  },
  {
   "cell_type": "code",
   "execution_count": null,
   "metadata": {},
   "outputs": [],
   "source": []
  },
  {
   "cell_type": "code",
   "execution_count": null,
   "metadata": {},
   "outputs": [],
   "source": [
    "%load solutions/indexing_ex4_mpg.py"
   ]
  },
  {
   "cell_type": "markdown",
   "metadata": {},
   "source": [
    " <div class=\"alert alert-success\" data-title=\"\">\n",
    "  <h1><i class=\"fa fa-tasks\" aria-hidden=\"true\"></i> Exercise</h1>\n",
    "</div>\n",
    "\n",
    "<p>How many cars have at least 30 MPG and at least 5 cylinders?</p>"
   ]
  },
  {
   "cell_type": "code",
   "execution_count": null,
   "metadata": {},
   "outputs": [],
   "source": []
  },
  {
   "cell_type": "code",
   "execution_count": null,
   "metadata": {},
   "outputs": [],
   "source": [
    "%load solutions/indexing_ex5_mpg_and_cylinders.py"
   ]
  }
 ],
 "metadata": {
  "kernelspec": {
   "display_name": "Python 3",
   "language": "python",
   "name": "python3"
  },
  "language_info": {
   "codemirror_mode": {
    "name": "ipython",
    "version": 3
   },
   "file_extension": ".py",
   "mimetype": "text/x-python",
   "name": "python",
   "nbconvert_exporter": "python",
   "pygments_lexer": "ipython3",
   "version": "3.6.2"
  }
 },
 "nbformat": 4,
 "nbformat_minor": 1
}
